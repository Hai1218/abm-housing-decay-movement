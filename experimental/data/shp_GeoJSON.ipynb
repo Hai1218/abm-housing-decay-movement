{
 "cells": [
  {
   "cell_type": "code",
   "execution_count": 1,
   "metadata": {},
   "outputs": [],
   "source": [
    "import geopandas as gpd\n",
    "\n",
    "# Step 1: Load your Shapefile\n",
    "# Replace 'path_to_shapefile.shp' with the path to your Shapefile\n",
    "gdf = gpd.read_file('chicago.shp')\n",
    "\n",
    "# Step 2: Save it as a GeoJSON\n",
    "# Replace 'output_path.geojson' with the desired output path\n",
    "gdf.to_file('chicago.geojson', driver='GeoJSON')\n"
   ]
  }
 ],
 "metadata": {
  "kernelspec": {
   "display_name": "spatial",
   "language": "python",
   "name": "python3"
  },
  "language_info": {
   "codemirror_mode": {
    "name": "ipython",
    "version": 3
   },
   "file_extension": ".py",
   "mimetype": "text/x-python",
   "name": "python",
   "nbconvert_exporter": "python",
   "pygments_lexer": "ipython3",
   "version": "3.11.5"
  }
 },
 "nbformat": 4,
 "nbformat_minor": 2
}
